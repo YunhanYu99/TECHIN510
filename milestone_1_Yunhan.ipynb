{
 "cells": [
  {
   "cell_type": "markdown",
   "metadata": {},
   "source": [
    "# Milestone 1\n",
    "Building on previous exercises, build an interactive application that asks the user a series of questions and then stores the user's answers for later analysis."
   ]
  },
  {
   "cell_type": "markdown",
   "metadata": {},
   "source": [
    "## Requirements\n",
    "Your submission should include the following:\n",
    "- A Chatbot that asks three users a series of at least three questions.\n",
    "- Your chatbot should store the user's responses in a data structure, preferably a Pandas DataFrame, so that it can present a graphical analysis of the responses.\n",
    "- Your chatbot should provide at least one visualization, such as a vertical bar chart, that provides a basic summary and analysis of the user input."
   ]
  },
  {
   "cell_type": "markdown",
   "metadata": {},
   "source": [
    "## Yunhan Yu's Code"
   ]
  },
  {
   "cell_type": "code",
   "execution_count": 1,
   "metadata": {},
   "outputs": [],
   "source": [
    "import pandas as pd\n",
    "import matplotlib.pyplot as plt\n",
    "import string\n",
    "import random"
   ]
  },
  {
   "cell_type": "markdown",
   "metadata": {},
   "source": [
    "### Create a Basic Chatbot"
   ]
  },
  {
   "cell_type": "code",
   "execution_count": 2,
   "metadata": {},
   "outputs": [],
   "source": [
    "## Simple interactive chatbot\n",
    "def chat_base(question):\n",
    "    answer = input(question)\n",
    "    return answer"
   ]
  },
  {
   "cell_type": "markdown",
   "metadata": {},
   "source": [
    "### Initialize a DataFrame to Store User Input"
   ]
  },
  {
   "cell_type": "code",
   "execution_count": 3,
   "metadata": {},
   "outputs": [],
   "source": [
    "data_store = pd.DataFrame()"
   ]
  },
  {
   "cell_type": "markdown",
   "metadata": {},
   "source": [
    "### Run the Chatbot and Save Each User's Answers"
   ]
  },
  {
   "cell_type": "code",
   "execution_count": 13,
   "metadata": {},
   "outputs": [
    {
     "name": "stdout",
     "output_type": "stream",
     "text": [
      "What's your name?Ke\n",
      "I will ask a few questions. print Bye to quit.\n",
      "Hi, how can I help you, Ke?A great day\n",
      "That's good\n",
      "Where did you go today, Ke?GIX\n",
      "Ok\n",
      "Can you tell me more, Ke?Having a class there\n",
      "Ok\n",
      "Thanks for your response. I've made a note of it.\n"
     ]
    }
   ],
   "source": [
    "## Simple interactive chatbot\n",
    "user = chat_base(\"What's your name?\")\n",
    "print('I will ask a few questions. print Bye to quit.')\n",
    "def ListenBot(question,user,data_store):\n",
    "    user_responses = []\n",
    "    positive = list(pd.read_csv(\"/Users/yunhan/Desktop/510INTE/Lab 1: Simple Chatbot/positive_words.txt\", header=0).iloc[:,0].values)\n",
    "    negative = list(pd.read_csv(\"/Users/yunhan/Desktop/510INTE/Lab 1: Simple Chatbot/negative_words.txt\", header=0).iloc[:,0].values)\n",
    "    positive_response = [\"Great!\",\"That's good\",\"Cool!\"]\n",
    "    negative_response = [\"Sorry to hear that\",\"Womp, womp!\"]\n",
    "    netural_response = [\"I see.\",\"Ok\",\"hmmmm\"]\n",
    "    answer = input(question+\", %s?\"%user)\n",
    "    if answer == \"Bye\" or answer == \"bye\":\n",
    "        new_response = {'user_name': user, 'question': question, 'response': answer}\n",
    "        user_responses.append(new_response)\n",
    "        new_data = pd.DataFrame(user_responses)\n",
    "        data_store = pd.concat([data_store, new_data])\n",
    "    else:\n",
    "        answer = answer.translate(str.maketrans(\"\",\"\", string.punctuation)) #remove punctuation\n",
    "        answer = answer.lower()\n",
    "        word_answer = answer.split()\n",
    "        positive_answer = 0\n",
    "        negative_answer = 0\n",
    "        for i in word_answer:\n",
    "            if i in positive:\n",
    "                positive_answer += 1 \n",
    "            elif i in negative:\n",
    "                negative_answer += 1\n",
    "        if positive_answer > negative_answer:\n",
    "            print(random.choice(positive_response))\n",
    "        elif negative_answer > positive_answer:\n",
    "            print(random.choice(negative_response))\n",
    "        else:\n",
    "            print(random.choice(netural_response))\n",
    "        new_response = {'user_name': user, 'question': question, 'response': answer}\n",
    "        user_responses.append(new_response)\n",
    "        new_data = pd.DataFrame(user_responses)\n",
    "        data_store = pd.concat([data_store, new_data])\n",
    "    return data_store\n",
    "data_store = ListenBot(\"Hi, how can I help you\",user,data_store)\n",
    "current_response = data_store[data_store[\"user_name\"]==user]\n",
    "if \"bye\" in current_response[\"response\"].values or \"Bye\" in current_response[\"response\"].values:\n",
    "    print(\"Bye\")\n",
    "else:\n",
    "    data_store = ListenBot(\"Where did you go today\",user,data_store)\n",
    "    if \"bye\" in current_response[\"response\"].values or \"Bye\" in current_response[\"response\"].values:\n",
    "        print(\"Bye\")\n",
    "    else:\n",
    "        data_store = ListenBot(\"Can you tell me more\",user,data_store)\n",
    "        print(\"Thanks for your response. I've made a note of it.\")"
   ]
  },
  {
   "cell_type": "markdown",
   "metadata": {},
   "source": [
    "### View Cumulative Data"
   ]
  },
  {
   "cell_type": "code",
   "execution_count": 14,
   "metadata": {},
   "outputs": [
    {
     "data": {
      "text/html": [
       "<div>\n",
       "<style scoped>\n",
       "    .dataframe tbody tr th:only-of-type {\n",
       "        vertical-align: middle;\n",
       "    }\n",
       "\n",
       "    .dataframe tbody tr th {\n",
       "        vertical-align: top;\n",
       "    }\n",
       "\n",
       "    .dataframe thead th {\n",
       "        text-align: right;\n",
       "    }\n",
       "</style>\n",
       "<table border=\"1\" class=\"dataframe\">\n",
       "  <thead>\n",
       "    <tr style=\"text-align: right;\">\n",
       "      <th></th>\n",
       "      <th>user_name</th>\n",
       "      <th>question</th>\n",
       "      <th>response</th>\n",
       "    </tr>\n",
       "  </thead>\n",
       "  <tbody>\n",
       "    <tr>\n",
       "      <th>0</th>\n",
       "      <td>Yunhan</td>\n",
       "      <td>Hi, how can I help you</td>\n",
       "      <td>im fine</td>\n",
       "    </tr>\n",
       "    <tr>\n",
       "      <th>0</th>\n",
       "      <td>Yunhan</td>\n",
       "      <td>Where did you go today</td>\n",
       "      <td>main campus</td>\n",
       "    </tr>\n",
       "    <tr>\n",
       "      <th>0</th>\n",
       "      <td>Yunhan</td>\n",
       "      <td>Can you tell me more</td>\n",
       "      <td>thats good</td>\n",
       "    </tr>\n",
       "    <tr>\n",
       "      <th>0</th>\n",
       "      <td>Yu</td>\n",
       "      <td>Hi, how can I help you</td>\n",
       "      <td>good</td>\n",
       "    </tr>\n",
       "    <tr>\n",
       "      <th>0</th>\n",
       "      <td>Yu</td>\n",
       "      <td>Where did you go today</td>\n",
       "      <td>trade joes</td>\n",
       "    </tr>\n",
       "    <tr>\n",
       "      <th>0</th>\n",
       "      <td>Yu</td>\n",
       "      <td>Can you tell me more</td>\n",
       "      <td>i bought many things</td>\n",
       "    </tr>\n",
       "    <tr>\n",
       "      <th>0</th>\n",
       "      <td>Ke</td>\n",
       "      <td>Hi, how can I help you</td>\n",
       "      <td>a great day</td>\n",
       "    </tr>\n",
       "    <tr>\n",
       "      <th>0</th>\n",
       "      <td>Ke</td>\n",
       "      <td>Where did you go today</td>\n",
       "      <td>gix</td>\n",
       "    </tr>\n",
       "    <tr>\n",
       "      <th>0</th>\n",
       "      <td>Ke</td>\n",
       "      <td>Can you tell me more</td>\n",
       "      <td>having a class there</td>\n",
       "    </tr>\n",
       "  </tbody>\n",
       "</table>\n",
       "</div>"
      ],
      "text/plain": [
       "  user_name                question              response\n",
       "0    Yunhan  Hi, how can I help you               im fine\n",
       "0    Yunhan  Where did you go today           main campus\n",
       "0    Yunhan    Can you tell me more            thats good\n",
       "0        Yu  Hi, how can I help you                  good\n",
       "0        Yu  Where did you go today            trade joes\n",
       "0        Yu    Can you tell me more  i bought many things\n",
       "0        Ke  Hi, how can I help you           a great day\n",
       "0        Ke  Where did you go today                   gix\n",
       "0        Ke    Can you tell me more  having a class there"
      ]
     },
     "execution_count": 14,
     "metadata": {},
     "output_type": "execute_result"
    }
   ],
   "source": [
    "# data_store\n",
    "data_store"
   ]
  },
  {
   "cell_type": "markdown",
   "metadata": {},
   "source": [
    "### Analyze Data"
   ]
  },
  {
   "cell_type": "code",
   "execution_count": 15,
   "metadata": {},
   "outputs": [
    {
     "data": {
      "text/plain": [
       "<AxesSubplot:ylabel='Place people go today'>"
      ]
     },
     "execution_count": 15,
     "metadata": {},
     "output_type": "execute_result"
    },
    {
     "data": {
      "image/png": "[encoded data removed]",
      "text/plain": [
       "<Figure size 432x288 with 1 Axes>"
      ]
     },
     "metadata": {
      "needs_background": "light"
     },
     "output_type": "display_data"
    }
   ],
   "source": [
    "place = data_store[(data_store['question']=='Where did you go today')]\n",
    "place['response'].value_counts().plot(kind='barh', xlabel=\"Place people go today\")"
   ]
  },
  {
   "cell_type": "markdown",
   "metadata": {},
   "source": [
    "## Be Creative!\n",
    "Don't limit yourself to a simple Q&A. Feel free to explore things like the sentiment analysis that we did in Lab 1 by determining whether a user's input is positive or negative (remember the positive and negative word lists)."
   ]
  }
 ],
 "metadata": {
  "kernelspec": {
   "display_name": "Python 3 (ipykernel)",
   "language": "python",
   "name": "python3"
  },
  "language_info": {
   "codemirror_mode": {
    "name": "ipython",
    "version": 3
   },
   "file_extension": ".py",
   "mimetype": "text/x-python",
   "name": "python",
   "nbconvert_exporter": "python",
   "pygments_lexer": "ipython3",
   "version": "3.9.12"
  }
 },
 "nbformat": 4,
 "nbformat_minor": 1
}
